{
 "cells": [
  {
   "cell_type": "code",
   "execution_count": 1,
   "metadata": {},
   "outputs": [
    {
     "data": {
      "text/plain": [
       "9"
      ]
     },
     "execution_count": 1,
     "metadata": {},
     "output_type": "execute_result"
    }
   ],
   "source": [
    "x=[10,20,30,40,50,60,90,80,120]\n",
    "len(x)"
   ]
  },
  {
   "cell_type": "code",
   "execution_count": 9,
   "metadata": {},
   "outputs": [
    {
     "name": "stdout",
     "output_type": "stream",
     "text": [
      "[10, 20, 30, 40, 50, 60, 90, 80, 120]\n",
      "[50, 60, 90, 80, 120]\n"
     ]
    }
   ],
   "source": [
    "#want to take x>=50\n",
    "\n",
    "#way 1\n",
    "\n",
    "y=[]\n",
    "for i in x:\n",
    "    if i>=50:\n",
    "        y.append(i)\n",
    "print(x)\n",
    "print(y)"
   ]
  },
  {
   "cell_type": "code",
   "execution_count": 11,
   "metadata": {},
   "outputs": [
    {
     "name": "stdout",
     "output_type": "stream",
     "text": [
      "[100, 110, 140, 130, 170]\n"
     ]
    }
   ],
   "source": [
    "#way 2\n",
    "# [expression <for loop> <if cond>]\n",
    "\n",
    "z=[v+50 for v in x if v>=50]\n",
    "print(z)\n"
   ]
  },
  {
   "cell_type": "code",
   "execution_count": 12,
   "metadata": {},
   "outputs": [
    {
     "name": "stdout",
     "output_type": "stream",
     "text": [
      "[('ravi', 'm', 25), ('giri', 'm', 29)]\n",
      "[('rani', 'f', 24), ('gita', 'f', 30)]\n"
     ]
    }
   ],
   "source": [
    "info =[('ravi','m',25),('rani','f',24),('giri','m',29),('gita','f',30)]\n",
    "\n",
    "# separate males and females into separatelist objects\n",
    "\n",
    "#way1\n",
    "\n",
    "male =[]\n",
    "female = []\n",
    "for s in info:\n",
    "    sex = s[1]\n",
    "    if sex=='m':\n",
    "        male.append(s)\n",
    "    else:\n",
    "        female.append(s)\n",
    "print(male)\n",
    "print(female)"
   ]
  },
  {
   "cell_type": "code",
   "execution_count": 14,
   "metadata": {},
   "outputs": [
    {
     "name": "stdout",
     "output_type": "stream",
     "text": [
      "[('ravi', 'm', 25), ('giri', 'm', 29)]\n",
      "[('rani', 'f', 24), ('gita', 'f', 30)]\n"
     ]
    }
   ],
   "source": [
    "# way2\n",
    "m=[s for s in info if s[1]=='m']\n",
    "f=[s for s in info if s[1]=='f']\n",
    "\n",
    "print(m)\n",
    "print(f)"
   ]
  },
  {
   "cell_type": "code",
   "execution_count": 33,
   "metadata": {},
   "outputs": [
    {
     "name": "stdout",
     "output_type": "stream",
     "text": [
      "[('Ravi', 'Male', 'Marketing', 80000, 'A'), ('Rani', 'Female', 'HR', 90000, 'A'), ('Giri', 'Male', 'Finance', 30000, 'C'), ('Gita', 'Female', 'other', 55555, 'B'), ('Raj', 'Male', 'Marketing', 45000, 'C'), ('Raji', 'Female', 'HR', 56000, 'B'), ('Ranjith', 'Male', 'Finance', 25555, 'D')] \n",
      "\n",
      "----------------------------------------\n",
      "[('Ravi', 'Male', 'Marketing', 80000, 'A'), ('Giri', 'Male', 'Finance', 30000, 'C'), ('Raj', 'Male', 'Marketing', 45000, 'C'), ('Ranjith', 'Male', 'Finance', 25555, 'D')] \n",
      "\n",
      "----------------------------------------\n",
      "[('Rani', 'Female', 'HR', 90000, 'A'), ('Gita', 'Female', 'other', 55555, 'B'), ('Raji', 'Female', 'HR', 56000, 'B')] \n",
      "\n",
      "----------------------------------------\n"
     ]
    }
   ],
   "source": [
    "#combination of transformation and filters.\n",
    "\n",
    "info =[('ravi','m',11,80000),('rani','f',12,90000),('giri','m',13,30000),('gita','f',14,55555),('raj','m',11,45000),('raji','f',12,56000),\n",
    "      ('ranjith','m',13,25555)]\n",
    "#name - first letter uppercase, remainign lower case\n",
    "#sex - m as male, f as female\n",
    "#Dno - 11 as marketing, 12 as HR, 13 as finance, remaining as other\n",
    "#salary -- >=70 --> A, >=50 to 70k ---> B, 30 to 50k --> C, <30k ---> D\n",
    "#separate male and femal profiles\n",
    "# first apply transformation and then filter\n",
    "\n",
    "def fupper(s):\n",
    "    s =s.strip().lower()\n",
    "    fc = s[0].upper()\n",
    "    rc= s[1:]\n",
    "    return fc+rc\n",
    "\n",
    "fupper(\" apple \")\n",
    "\n",
    "def gend(s):\n",
    "    s=s.lower()\n",
    "    if s=='m':\n",
    "        return 'Male'\n",
    "    else:\n",
    "        return 'Female'\n",
    "    \n",
    "gend('f')\n",
    "\n",
    "def dept(d):\n",
    "    dname = 'other'\n",
    "    if d==11:\n",
    "        dname='Marketing'\n",
    "    elif d==12:\n",
    "        dname = 'HR'\n",
    "    elif d==13:\n",
    "        dname = \"Finance\"\n",
    "    return dname\n",
    "\n",
    "dept(17)\n",
    "        \n",
    "    \n",
    "def grade(s):\n",
    "    grade = 'D'\n",
    "    if s >= 70000:\n",
    "        grade = 'A'\n",
    "    elif s>= 50000:\n",
    "        grade = 'B'\n",
    "    elif s>= 30000:\n",
    "        grade = 'C'\n",
    "        \n",
    "    return grade\n",
    "\n",
    "grade(90000)\n",
    "\n",
    "\n",
    "newinfo = [(fupper(r[0]),gend(r[1]),dept(r[2]),r[-1],grade(r[3]),'\\n') for r in info]\n",
    "male = [n for n in newinfo if n[1]=='Male']\n",
    "female = [n for n in newinfo if n[1]=='Female']\n",
    "\n",
    "print(newinfo,'\\n')\n",
    "print(\"-\"*40)\n",
    "print(male,'\\n')\n",
    "print(\"-\"*40)\n",
    "print(female,'\\n')\n",
    "print(\"-\"*40)"
   ]
  },
  {
   "cell_type": "code",
   "execution_count": 6,
   "metadata": {},
   "outputs": [
    {
     "name": "stdout",
     "output_type": "stream",
     "text": [
      "\n",
      " [10, 20, 30, 40, 50] \n",
      " [1, 2, 3, 4, 5] \n",
      " [100, 200, 300, 400, 500] \n",
      " [111, 222, 333, 444, 555] \n",
      "\n"
     ]
    }
   ],
   "source": [
    "a = [10,20,30,40,50]\n",
    "b = [1,2,3,4,5]\n",
    "c = [100,200,300,400,500]\n",
    "\n",
    "# task : corresponding elements should be summed(any arithmetic operation)\n",
    "\n",
    "#d --> [10+1+100,20+2+200 ...]\n",
    "\n",
    "i = 0\n",
    "d = []\n",
    "for v in a:\n",
    "    tot = v + b[i] + c[i]\n",
    "    d.append(tot)\n",
    "    i+=1\n",
    "print('\\n',a,'\\n',b,'\\n',c,'\\n',d,'\\n')\n",
    "\n"
   ]
  },
  {
   "cell_type": "code",
   "execution_count": 15,
   "metadata": {},
   "outputs": [
    {
     "name": "stdout",
     "output_type": "stream",
     "text": [
      "[1, 2, 3]\n",
      "[7, 8, 9]\n",
      "[100, 200, 300, 500]\n",
      "[(1, 7, 100), (2, 8, 200), (3, 9, 300)]\n",
      "[(10, 1, 100), (20, 2, 200), (30, 3, 300), (40, 4, 400), (50, 5, 500)]\n",
      "[111, 222, 333, 444, 555, 111, 222, 333, 444, 555, 111, 222, 333, 444, 555, 111, 222, 333, 444, 555, 111, 222, 333, 444, 555, 111, 222, 333, 444, 555]\n",
      "[111, 222, 333, 444, 555, 111, 222, 333, 444, 555, 111, 222, 333, 444, 555, 111, 222, 333, 444, 555, 111, 222, 333, 444, 555, 111, 222, 333, 444, 555, 111, 222, 333, 444, 555]\n",
      "[111, 222, 333, 444, 555]\n"
     ]
    }
   ],
   "source": [
    "x=[1,2,3]\n",
    "y=[7,8,9]\n",
    "z=[100,200,300,500]\n",
    "for v in x,y,z:\n",
    "    print(v)\n",
    "    \n",
    "print(list(zip(x,y,z)))\n",
    "\n",
    "#zip() --> corresponding elements will be mapped as tuple object\n",
    "\n",
    "print(list(zip(a,b,c)))\n",
    "\n",
    "for v in list(zip(a,b,c)):\n",
    "    tot = v[0]+v[1]+v[2]\n",
    "    d.append(tot)\n",
    "print(d)\n",
    "\n",
    "for x,y,z in list(zip(a,b,c)):\n",
    "    tot = x+y+z\n",
    "    d.append(tot)\n",
    "print(d)\n",
    "\n"
   ]
  },
  {
   "cell_type": "code",
   "execution_count": 16,
   "metadata": {},
   "outputs": [
    {
     "name": "stdout",
     "output_type": "stream",
     "text": [
      "[111, 222, 333, 444, 555]\n"
     ]
    }
   ],
   "source": [
    "d = [x+y+z for x,y,z in list(zip(a,b,c))]\n",
    "print(d)"
   ]
  },
  {
   "cell_type": "code",
   "execution_count": 17,
   "metadata": {},
   "outputs": [
    {
     "name": "stdout",
     "output_type": "stream",
     "text": [
      "[('Ravi', 'm', 25), ('Mani', 'm', 35), ('Girija', 'f', 24), ('Veni', 'f', 32)]\n"
     ]
    }
   ],
   "source": [
    "name = [\"Ravi\",\"Mani\",\"Girija\",\"Veni\"]\n",
    "sex = ['m','m','f','f']\n",
    "age=[25,35,24,32]\n",
    "\n",
    "# form these 3 list object into list of tuples.\n",
    "\n",
    "print(list(zip(name,sex,age)))"
   ]
  },
  {
   "cell_type": "code",
   "execution_count": 19,
   "metadata": {},
   "outputs": [
    {
     "name": "stdout",
     "output_type": "stream",
     "text": [
      "['ravi', 'rani', 'giri', 'gita', 'raj', 'raji', 'ranjith']\n",
      "['m', 'f', 'm', 'f', 'm', 'f', 'm']\n",
      "[11, 12, 13, 14, 11, 12, 13]\n",
      "[80000, 90000, 30000, 55555, 45000, 56000, 25555]\n"
     ]
    }
   ],
   "source": [
    "info =[('ravi','m',11,80000),('rani','f',12,90000),('giri','m',13,30000),('gita','f',14,55555),('raj','m',11,45000),('raji','f',12,56000),\n",
    "      ('ranjith','m',13,25555)]\n",
    "\n",
    "# separate objects into 4 separate list objects\n",
    "\n",
    "name =[]\n",
    "sex = []\n",
    "dept = []\n",
    "sal = []\n",
    "\n",
    "for n,s,d,sl in info:\n",
    "    name.append(n)\n",
    "    sex.append(s)\n",
    "    dept.append(d)\n",
    "    sal.append(sl)\n",
    "print(name)\n",
    "print(sex)\n",
    "print(dept)\n",
    "print(sal)"
   ]
  },
  {
   "cell_type": "code",
   "execution_count": 22,
   "metadata": {},
   "outputs": [
    {
     "name": "stdout",
     "output_type": "stream",
     "text": [
      "[111, 222, 333, 444, 555]\n"
     ]
    }
   ],
   "source": [
    "x=(10,20,30)\n",
    "sum(x)\n",
    "\n",
    "d =[sum(v) for v in list(zip(a,b,c))]\n",
    "print(d)"
   ]
  },
  {
   "cell_type": "code",
   "execution_count": 36,
   "metadata": {},
   "outputs": [
    {
     "name": "stdout",
     "output_type": "stream",
     "text": [
      "{101: 30000, 102: 10000, 103: 5000}\n",
      "{101: 30000, 102: 10000, 103: 5000}\n",
      "{101: 35000, 102: 8000, 103: 5000, 104: 10000}\n",
      "None\n",
      "Invalid Account number\n"
     ]
    }
   ],
   "source": [
    "#Dictionary:\n",
    "\n",
    "# is a collection of key value pairs.\n",
    "#rules:\n",
    "#key should be unique, value can be duplicated\n",
    "#when key is passe, value will be returned\n",
    "\n",
    "qual ={'btech':2010,'mtech':2012}\n",
    "qual['btech']\n",
    "\n",
    "qual['mtech']\n",
    "\n",
    "qual['phd']=2018\n",
    "qual\n",
    "\n",
    "qual['btech']=2009\n",
    "qual\n",
    "\n",
    "# during assignment if given key existed, the associated value will be updated. if given key not exisited a new pair will be inserted into dictionary\n",
    "\n",
    "# Bank accounts\n",
    "accno={101,102,103}\n",
    "balance ={30000,10000,5000}\n",
    "\n",
    "accs={}\n",
    "for a,b in list(zip(accno,balance)):\n",
    "    accs[a]=b\n",
    "print(accs)\n",
    "\n",
    "print(dict(zip(accno,balance)))\n",
    "\n",
    "accs[101] += 5000\n",
    "accs[102]-= 2000\n",
    "accs[104] = 10000\n",
    "\n",
    "print(accs)\n",
    "\n",
    "#107 is available?\n",
    "\n",
    "print(accs.get(107))\n",
    "\n",
    "if accs.get(107) == None:\n",
    "    print(\"Invalid Account number\")\n",
    "else:\n",
    "    print(\"107 is valid account and balance is\", accs[ac])"
   ]
  },
  {
   "cell_type": "code",
   "execution_count": 4,
   "metadata": {},
   "outputs": [
    {
     "name": "stdout",
     "output_type": "stream",
     "text": [
      "{'m': 4, 'f': 3}\n"
     ]
    }
   ],
   "source": [
    "#grouping aggregation\n",
    "#sql:sum(),count(),max(),min(),avg()\n",
    "\n",
    "info =[('ravi','m',11,80000),('rani','f',12,90000),('giri','m',13,30000),('gita','f',14,55555),('raj','m',11,45000),('raji','f',12,56000),\n",
    "      ('ranjith','m',13,25555)]\n",
    "\n",
    "# grouping  aggregations\n",
    "#performing aggregations separately on each data group\n",
    "\n",
    "#ex:\n",
    "#task: foreach sex group, what is count.\n",
    "#sql: select sex,count(*) from info group by sex\n",
    "\n",
    "scnt ={}\n",
    "for v in info:\n",
    "    sex = v[1].lower()\n",
    "    if scnt.get(sex) == None:\n",
    "        scnt[sex]=1\n",
    "    else:\n",
    "        scnt[sex]+=1\n",
    "    \n",
    "print(scnt)\n",
    "    "
   ]
  },
  {
   "cell_type": "code",
   "execution_count": 5,
   "metadata": {},
   "outputs": [
    {
     "name": "stdout",
     "output_type": "stream",
     "text": [
      "{'m': 180555, 'f': 201555}\n"
     ]
    }
   ],
   "source": [
    "#task: foreach sex, group, what is total salary?\n",
    "#sql: select sex, sum(sal) from info group by sex:\n",
    "\n",
    "stot = {}\n",
    "for v in info:\n",
    "    s = v[1].lower()\n",
    "    sal =v[-1]\n",
    "    if stot.get(s)==None:\n",
    "        stot[s] =sal\n",
    "    else:\n",
    "        stot[s]+=sal\n",
    "print(stot)"
   ]
  },
  {
   "cell_type": "code",
   "execution_count": 6,
   "metadata": {},
   "outputs": [
    {
     "name": "stdout",
     "output_type": "stream",
     "text": [
      "{'m': [80000, 30000, 45000, 25555], 'f': [90000, 55555, 56000]}\n"
     ]
    }
   ],
   "source": [
    "#task: perform multiple aggregations on each data group\n",
    "#sql:select sex,sum(sal),count,avg(Sal),max(sal),min(sal) from info group by sex:\n",
    "\n",
    "res = {}\n",
    "for v in info:\n",
    "    s = v[1]\n",
    "    sal = v[-1]\n",
    "    if res.get(s)==None:\n",
    "        res[s] = [sal]\n",
    "    else:\n",
    "        res[s].append(sal)\n",
    "print(res)"
   ]
  },
  {
   "cell_type": "code",
   "execution_count": 11,
   "metadata": {},
   "outputs": [
    {
     "name": "stdout",
     "output_type": "stream",
     "text": [
      "m [80000, 30000, 45000, 25555]\n",
      "f [90000, 55555, 56000]\n",
      "m (180555, 4, 45138.75, 80000, 25555)\n",
      "f (201555, 3, 67185.0, 90000, 55555)\n"
     ]
    }
   ],
   "source": [
    "for x in res:\n",
    "    print(x,res[x])\n",
    "report = {}\n",
    "for x in res:\n",
    "    slist = res[x]\n",
    "    tot = sum(slist)\n",
    "    cnt=len(slist)\n",
    "    avg=tot/cnt\n",
    "    mx = max(slist)\n",
    "    mn=min(slist)\n",
    "    agr = (tot,cnt,avg,mx,mn)\n",
    "    report[x]=agr\n",
    "for k in report:\n",
    "    print(k,report[k])"
   ]
  },
  {
   "cell_type": "code",
   "execution_count": 23,
   "metadata": {},
   "outputs": [
    {
     "name": "stdout",
     "output_type": "stream",
     "text": [
      "(11, 'm') 125000\n",
      "[11, 'm', 125000]\n",
      "(12, 'f') 146000\n",
      "[12, 'f', 146000]\n",
      "(13, 'm') 55555\n",
      "[13, 'm', 55555]\n",
      "(14, 'f') 55555\n",
      "[14, 'f', 55555]\n"
     ]
    }
   ],
   "source": [
    "# multiple grouping columns and single aggregation\n",
    "#select dno,sex,sum(Sal) from info group by dno, sex\n",
    "info =[('ravi','m',11,80000),('rani','f',12,90000),('giri','m',13,30000),('gita','f',14,55555),('raj','m',11,45000),('raji','f',12,56000),\n",
    "      ('ranjith','m',13,25555)]\n",
    "res ={}\n",
    "for v in info:\n",
    "    s = v[1]\n",
    "    d = v[2]\n",
    "    k = (d,s)\n",
    "    sal = v[-1]\n",
    "    if res.get(k)==None:\n",
    "        res[k]=sal\n",
    "    else:\n",
    "        res[k]+=sal\n",
    "for k in res:\n",
    "    print(k,res[k])\n",
    "    print([k[0],k[1],res[k]])\n",
    "    "
   ]
  },
  {
   "cell_type": "code",
   "execution_count": null,
   "metadata": {},
   "outputs": [],
   "source": [
    "# Multi dimensional objects\n",
    "\n",
    "# types\n",
    "#1. Single Dimensional Array\n",
    "#2. Double dimension\n",
    "#3. (>2) Multi dimension.\n",
    "\n",
    "#single [](list)\n",
    "#double [[]] (list of list)\n",
    "#\n",
    "\n",
    "\n",
    "#single dimension\n",
    "#is a collectin of homogeneous items, each item should refer one thing.\n",
    "\n",
    "#ex:\n",
    "#price =[100,300,500,900]\n",
    "#here collection has 4 elements\n",
    "#each price refers, a product(product price)\n",
    "\n",
    "#number of dimensions\n",
    "\n",
    "#qual:\n",
    " \n",
    "# q=['btech','mtech','phd']\n",
    "#number of elements:3\n",
    "#each element:qual\n",
    "\n",
    "#each qual refer a person (one thing)\n",
    "\n",
    "#numpy\n",
    "\n",
    "#import numpy as np\n",
    "#A =np.array([[1,2],[3,4],[7,2]])\n",
    "#shape - 3X2\n",
    "#B=np.array([[1,2,3,4][3,6,2,1]])\n",
    "#size = 2X4\n",
    "\n",
    "# matrix multiplication.\n",
    "#C=A.dot(B)\n",
    "#number of rows in left side and no. of columns in right side should be equal\n",
    "\n",
    "#transpose\n",
    "#rows to columns and columns to rows\n",
    "#D =A.T(D = np.transpose(A))\n",
    "#2X3\n",
    "\n",
    "#X = np.arrray([[1,2],[3,4]])\n",
    "#2X2\n",
    "#from numpy.linalg import inv\n",
    "# Xi = inv(x)\n",
    "#Matrix inversion\n",
    "#\n",
    "\n"
   ]
  },
  {
   "cell_type": "markdown",
   "metadata": {},
   "source": [
    "# numpy\n",
    "\n",
    "## Linear algebra. ml/stat/dl/nlp"
   ]
  },
  {
   "cell_type": "code",
   "execution_count": 1,
   "metadata": {},
   "outputs": [],
   "source": [
    "import numpy as np"
   ]
  },
  {
   "cell_type": "code",
   "execution_count": 4,
   "metadata": {},
   "outputs": [
    {
     "name": "stdout",
     "output_type": "stream",
     "text": [
      "[1 2 3]\n",
      "<class 'numpy.ndarray'>\n"
     ]
    }
   ],
   "source": [
    "#single dimensional array. \n",
    "\n",
    "#A=np.array(1,2,3,4,5)\n",
    "#error: The argument should be tuple or list object  or numpy array.\n",
    "\n",
    "B=np.array((1,2,3))\n",
    "print(B)\n",
    "print(type(B))"
   ]
  },
  {
   "cell_type": "code",
   "execution_count": 5,
   "metadata": {},
   "outputs": [
    {
     "name": "stdout",
     "output_type": "stream",
     "text": [
      "[1 3 5 7]\n"
     ]
    }
   ],
   "source": [
    "c=np.array([1,3,5,7])\n",
    "\n",
    "print(c)"
   ]
  },
  {
   "cell_type": "code",
   "execution_count": 6,
   "metadata": {},
   "outputs": [
    {
     "name": "stdout",
     "output_type": "stream",
     "text": [
      "[0 1 2 3 4]\n"
     ]
    }
   ],
   "source": [
    "# sequence number\n",
    "\n",
    "x=np.arange(5) # it will generate list of 0 to 4\n",
    "print(x)"
   ]
  },
  {
   "cell_type": "code",
   "execution_count": 11,
   "metadata": {},
   "outputs": [
    {
     "name": "stdout",
     "output_type": "stream",
     "text": [
      "[110 120 130 140]\n",
      "[ 50 100 150 200]\n",
      "[ 100  400  900 1600]\n",
      "[ 5. 10. 15. 20.]\n"
     ]
    }
   ],
   "source": [
    "# arithmetic operations over numpy array\n",
    "A=np.array([10,20,30,40])\n",
    "print(A+100)\n",
    "\n",
    "B= A*5\n",
    "print(B)\n",
    "print(A**2)\n",
    "print(A*0.5) # square root\n",
    "#When you perform arithmetic operation on numpy array, the operation will be done on each element"
   ]
  },
  {
   "cell_type": "code",
   "execution_count": 13,
   "metadata": {},
   "outputs": [
    {
     "name": "stdout",
     "output_type": "stream",
     "text": [
      "[[1 2 3]\n",
      " [5 6 7]]\n"
     ]
    }
   ],
   "source": [
    "#creating 2D.\n",
    "#arguments should be tuple of tuple or list of list\n",
    "\n",
    "A =np.array([[1,2,3],\n",
    "            [5,6,7]])\n",
    "# 2 rows 3 columns 2X3\n",
    "\n",
    "print(A)"
   ]
  },
  {
   "cell_type": "code",
   "execution_count": 20,
   "metadata": {},
   "outputs": [
    {
     "name": "stdout",
     "output_type": "stream",
     "text": [
      "2\n",
      "2\n",
      "3\n"
     ]
    }
   ],
   "source": [
    "# to get dimension number.\n",
    "np.ndim(A) # number of dimension\n",
    "print(A.ndim)\n",
    "\n",
    "# to get shape of array\n",
    "\n",
    "np.shape(A)\n",
    "print(A.shape[0])#rows\n",
    "print(A.shape[1])#columns"
   ]
  },
  {
   "cell_type": "code",
   "execution_count": 29,
   "metadata": {},
   "outputs": [
    {
     "name": "stdout",
     "output_type": "stream",
     "text": [
      "[ 1  2  3  4  5  6  7  8  9 10 11 12 13 14 15 16 17 18 19 20 21 22 23 24\n",
      " 25 26 27 28 29 30]\n",
      "[[ 1  2  3  4  5  6]\n",
      " [ 7  8  9 10 11 12]\n",
      " [13 14 15 16 17 18]\n",
      " [19 20 21 22 23 24]\n",
      " [25 26 27 28 29 30]]\n",
      "[[ 1  2  3  4  5]\n",
      " [ 6  7  8  9 10]\n",
      " [11 12 13 14 15]\n",
      " [16 17 18 19 20]\n",
      " [21 22 23 24 25]\n",
      " [26 27 28 29 30]]\n",
      "[ 1  2  3  4  5  6  7  8  9 10 11 12 13 14 15 16 17 18 19 20 21 22 23 24\n",
      " 25 26 27 28 29 30]\n",
      "[[ 1  2  3  4  5  6  7  8  9 10 11 12 13 14 15 16 17 18 19 20 21 22 23 24\n",
      "  25 26 27 28 29 30]]\n"
     ]
    }
   ],
   "source": [
    "A = np.arange(30)+1\n",
    "print(A)\n",
    "\n",
    "B=A.reshape(5,6)\n",
    "print(B)\n",
    "\n",
    "C=A.reshape(6,5)\n",
    "print(C)\n",
    "\n",
    "D=np.ravel(C)\n",
    "print(D)\n",
    "\n",
    "#ravel is flattens multi dimensional to single dimension\n",
    "\n",
    "print(C.reshape(1,30))"
   ]
  },
  {
   "cell_type": "code",
   "execution_count": 37,
   "metadata": {},
   "outputs": [
    {
     "name": "stdout",
     "output_type": "stream",
     "text": [
      "3\n",
      "(2, 2, 2)\n",
      "[10 30 20 40 30 60 40 80]\n"
     ]
    }
   ],
   "source": [
    "# creating 3 dimensional (list of list of list)\n",
    "#dim1 - course style(normal/distribution)\n",
    "#dim2- course name\n",
    "#dim3 - training mode (online/classroom)\n",
    "fee = np.array([\n",
    "    [[10,30],[20,40]],\n",
    "    [[30,60],[40,80]]\n",
    "    ])\n",
    "print(fee.ndim)\n",
    "print(fee.shape)\n",
    "print(fee.ravel())"
   ]
  },
  {
   "cell_type": "code",
   "execution_count": 42,
   "metadata": {},
   "outputs": [
    {
     "name": "stdout",
     "output_type": "stream",
     "text": [
      "[100 101 102 103 104 105 106 107 108 109 110 111 112 113 114 115 116 117\n",
      " 118 119 120 121 122 123 124 125 126 127 128 129 130 131 132 133 134 135\n",
      " 136 137 138 139 140 141 142 143 144 145 146 147 148 149 150 151 152 153\n",
      " 154 155 156 157 158 159 160 161 162 163 164 165 166 167 168 169 170 171\n",
      " 172 173 174 175 176 177 178 179 180 181 182 183 184 185 186 187 188 189]\n",
      "[[[[100 101 102 103 104]\n",
      "   [105 106 107 108 109]\n",
      "   [110 111 112 113 114]]\n",
      "\n",
      "  [[115 116 117 118 119]\n",
      "   [120 121 122 123 124]\n",
      "   [125 126 127 128 129]]]\n",
      "\n",
      "\n",
      " [[[130 131 132 133 134]\n",
      "   [135 136 137 138 139]\n",
      "   [140 141 142 143 144]]\n",
      "\n",
      "  [[145 146 147 148 149]\n",
      "   [150 151 152 153 154]\n",
      "   [155 156 157 158 159]]]\n",
      "\n",
      "\n",
      " [[[160 161 162 163 164]\n",
      "   [165 166 167 168 169]\n",
      "   [170 171 172 173 174]]\n",
      "\n",
      "  [[175 176 177 178 179]\n",
      "   [180 181 182 183 184]\n",
      "   [185 186 187 188 189]]]]\n",
      "153\n",
      "[[105 106 107 108 109]\n",
      " [135 136 137 138 139]\n",
      " [165 166 167 168 169]]\n"
     ]
    }
   ],
   "source": [
    "#veg market\n",
    "# 3 markets. hyd,del,pune\n",
    "#2 shifts. morning and evening\n",
    "#3 vegitables. tomato,onion,carrot\n",
    "\n",
    "#each vegetables price varies from day to day (mon to fri)\n",
    "\n",
    "#shape - (3,2,3,5)\n",
    "\n",
    "prices = np.arange(90)+100\n",
    "print(prices)\n",
    "\n",
    "p= prices.reshape(3,2,3,5)\n",
    "print(p)\n",
    "\n",
    "# what is price of onion at delhi, 2nd shift,thrusday\n",
    "\n",
    "print(p[1,1,1,-2])\n",
    "\n"
   ]
  },
  {
   "cell_type": "code",
   "execution_count": 44,
   "metadata": {},
   "outputs": [
    {
     "name": "stdout",
     "output_type": "stream",
     "text": [
      "[[105 106 107 108 109]\n",
      " [135 136 137 138 139]\n",
      " [165 166 167 168 169]]\n"
     ]
    }
   ],
   "source": [
    "#price of onion in 1st shift in all markets in all days\n",
    "\n",
    "print(p[:,0,1])"
   ]
  },
  {
   "cell_type": "code",
   "execution_count": 48,
   "metadata": {},
   "outputs": [
    {
     "name": "stdout",
     "output_type": "stream",
     "text": [
      "[[122 127]\n",
      " [152 157]]\n"
     ]
    }
   ],
   "source": [
    "    # what are price of onion and carrot on hyd and del market for 2 shifts on wednesday.\n",
    "    \n",
    "    print(p[:2,1,1:,2])"
   ]
  },
  {
   "cell_type": "code",
   "execution_count": 6,
   "metadata": {},
   "outputs": [
    {
     "name": "stdout",
     "output_type": "stream",
     "text": [
      "2\n",
      "6\n",
      "[5 7 9]\n",
      "21\n",
      "[5 7 9]\n",
      "[ 6 15]\n",
      "3.5\n",
      "6\n",
      "[1 4]\n"
     ]
    }
   ],
   "source": [
    "import numpy as np\n",
    "A = np.array([[1,2,3],[4,5,6]])\n",
    "print(len(A))\n",
    "\n",
    "print(A.size)\n",
    "#total number of elements n n-dimensional array\n",
    "\n",
    "print(sum(A))\n",
    "\n",
    "print(sum(sum(A)))\n",
    "\n",
    "print(np.sum(A,axis =0))\n",
    "#sum of each column\n",
    "print(np.sum(A,axis =1))\n",
    "#sum of each row\n",
    "\n",
    "print(np.mean(A))\n",
    "\n",
    "print(A.max())\n",
    "\n",
    "print(A.min(axis=1))\n"
   ]
  },
  {
   "cell_type": "code",
   "execution_count": 4,
   "metadata": {},
   "outputs": [
    {
     "name": "stdout",
     "output_type": "stream",
     "text": [
      "[0 1 2 3 4]\n",
      "[1. 1. 1. 1. 1.]\n",
      "[0. 0. 0. 0. 0.]\n",
      "[1. 2. 3. 4. 5.]\n"
     ]
    }
   ],
   "source": [
    "A=np.arange(5)\n",
    "B=np.ones(5)\n",
    "C=np.zeros(5)\n",
    "D = A+B+C\n",
    "print(A)\n",
    "print(B)\n",
    "print(C)\n",
    "print(D)"
   ]
  },
  {
   "cell_type": "code",
   "execution_count": 8,
   "metadata": {},
   "outputs": [
    {
     "name": "stdout",
     "output_type": "stream",
     "text": [
      "7\n",
      "7\n"
     ]
    }
   ],
   "source": [
    "# if arithmetic operation applied between numpy arrays.\n",
    "\n",
    "#corresponding elements will be arithmetically operated\n",
    "\n",
    "print(sum(A[:,1])) #A[row,column]\n",
    "\n",
    "print(A.sum(axis=0)[1])"
   ]
  },
  {
   "cell_type": "code",
   "execution_count": 13,
   "metadata": {},
   "outputs": [
    {
     "name": "stdout",
     "output_type": "stream",
     "text": [
      "[[1 2 3]\n",
      " [4 5 6]]\n",
      "[[10 11 12]\n",
      " [13 14 15]]\n",
      "________________________________________\n",
      "[[11 13 15]\n",
      " [17 19 21]]\n",
      "[[1 2 3]\n",
      " [4 5 6]]\n",
      "[[1 4]\n",
      " [2 1]\n",
      " [1 3]]\n",
      "[[ 8 15]\n",
      " [20 39]]\n"
     ]
    }
   ],
   "source": [
    "#computation of matrix\n",
    "\n",
    "B=(np.arange(6)+10).reshape(A.shape)\n",
    "\n",
    "print(A)\n",
    "print(B)\n",
    "C=A+B\n",
    "print(\"_\"*40)\n",
    "print(C)\n",
    "A*B #multiplication\n",
    "\n",
    "#matrix multiplication\n",
    "\n",
    "#C =np.dot(A,B)\n",
    "M=np.array([[1,4],\n",
    "          [2,1],\n",
    "          [1,3]])\n",
    "print(A)\n",
    "print(M)\n",
    "P=np.dot(A,M) #no.of columns of left side number of rows right side should be equal\n",
    "print(P)"
   ]
  },
  {
   "cell_type": "code",
   "execution_count": 15,
   "metadata": {},
   "outputs": [
    {
     "name": "stdout",
     "output_type": "stream",
     "text": [
      "(2, 3)\n",
      "(3, 2)\n",
      "[[ 68  86]\n",
      " [167 212]]\n"
     ]
    }
   ],
   "source": [
    "C=np.transpose(B)\n",
    "print(B.shape)\n",
    "print(C.shape)\n",
    "\n",
    "N = A.dot(B.T)\n",
    "print(N)"
   ]
  },
  {
   "cell_type": "code",
   "execution_count": 16,
   "metadata": {},
   "outputs": [
    {
     "name": "stdout",
     "output_type": "stream",
     "text": [
      "[[1 2]\n",
      " [3 4]]\n",
      "**********\n",
      "[[-2.   1. ]\n",
      " [ 1.5 -0.5]]\n"
     ]
    }
   ],
   "source": [
    "# matrix inversion\n",
    "#rule1: Matrix should be square.\n",
    "#rule2:det should be zero\n",
    "\n",
    "Q=np.array([[1,2],[3,4]])\n",
    "from numpy.linalg import inv\n",
    "I =inv(Q)\n",
    "print(Q)\n",
    "print(\"*\"*10)\n",
    "print(I)"
   ]
  },
  {
   "cell_type": "code",
   "execution_count": 18,
   "metadata": {},
   "outputs": [
    {
     "data": {
      "text/plain": [
       "2.701851217221259"
      ]
     },
     "execution_count": 18,
     "metadata": {},
     "output_type": "execute_result"
    }
   ],
   "source": [
    "#statistical function\n",
    "\n",
    "def sd(x):\n",
    "    num = ((x-x.mean())**2).sum()\n",
    "    den = x.size-1\n",
    "    return (num/den)**0.5\n",
    "\n",
    "x=np.array([1,4,3,2,8])\n",
    "\n",
    "sd(x)"
   ]
  },
  {
   "cell_type": "code",
   "execution_count": 23,
   "metadata": {},
   "outputs": [
    {
     "name": "stdout",
     "output_type": "stream",
     "text": [
      "tem and ice 25.900000000000006\n",
      "temp and sweater sales -28.800000000000004\n"
     ]
    }
   ],
   "source": [
    "#covariance\n",
    "#sum(x-xbar)(y-ybar)/n-1\n",
    "t=np.array([10,12,14,17,15,13])\n",
    "ice=np.array([20,34,40,52,45,38])\n",
    "\n",
    "def cov(x,y):\n",
    "    dx =x-x.mean()\n",
    "    dy=y-y.mean()\n",
    "    num = sum(dx*dy)\n",
    "    den = x.size-1\n",
    "    return num/den\n",
    "\n",
    "cov(t,ice)\n",
    "\n",
    "sweater=np.array([60,55,40,30,35,58])\n",
    "print(\"tem and ice\",cov(t,ice))\n",
    "print(\"temp and sweater sales\",cov(t,sweater))"
   ]
  },
  {
   "attachments": {
    "image.png": {
     "image/png": "[encoded data removed]"
    }
   },
   "cell_type": "markdown",
   "metadata": {},
   "source": [
    "#more statistical function with numpy\n",
    "\n",
    "\"\"\"sd()\n",
    "covarince cov()\n",
    "correlation:\n",
    "    used to identify dependency between variables\n",
    "    correlation always between -1 to +1\n",
    "    symbol - r\n",
    "    if r==0 there is no dependency\n",
    "    if r>0 and r <=0.5 weak positive dependency\n",
    "    if r>0.5 and r<1 strong positive dependency\n",
    "    if r>=-0.5 and r<0 weak negative dependency\n",
    "    if r>-1 and r<-0.5 strong negative dependency\n",
    "    if r==1 perfect negative dependency\"\"\"\n",
    "![image.png](attachment:image.png)\n",
    "\n",
    "\n"
   ]
  },
  {
   "attachments": {
    "image.png": {
     "image/png": "[encoded data removed]"
    }
   },
   "cell_type": "markdown",
   "metadata": {},
   "source": [
    "#covariance \n",
    "used to identify dependency between variables\n",
    "covariance can explain dependency briefly (not deeply)\n",
    "if cov==0 no depndency\n",
    "if cov>0 positive dependency\n",
    "if cov<0 negative dependency\n",
    "\n",
    "![image.png](attachment:image.png)\n",
    "\n",
    "\n",
    "corr(x,y)\n",
    "slope(x,y)\n",
    "intercept(x,y)\n",
    "weights(x,y) -  develop functin which returns both slope and intercept of x,y variables"
   ]
  },
  {
   "cell_type": "code",
   "execution_count": 5,
   "metadata": {},
   "outputs": [
    {
     "data": {
      "text/plain": [
       "-0.995595476931429"
      ]
     },
     "execution_count": 5,
     "metadata": {},
     "output_type": "execute_result"
    }
   ],
   "source": [
    "import numpy as np\n",
    "def corr(x,y):\n",
    "    n=x.size\n",
    "    nleft=n*sum(x*y)\n",
    "    nright=sum(x)*sum(y)\n",
    "    dleft=n*sum(x**2)-sum(x)**2\n",
    "    dright=n*sum(y**2)-sum(y)**2\n",
    "    num = nleft - nright\n",
    "    den = (dleft*dright)**0.5\n",
    "    return num/den\n",
    "t =np.array([10,12,14,17,15,13])\n",
    "ice = np.array([50,55,62,74,68,59])\n",
    "sweater = np.array([90,80,71,55,68,76])\n",
    "\n",
    "corr(t,ice)\n",
    "corr(t,sweater)"
   ]
  },
  {
   "cell_type": "code",
   "execution_count": null,
   "metadata": {},
   "outputs": [],
   "source": []
  }
 ],
 "metadata": {
  "kernelspec": {
   "display_name": "Python 3",
   "language": "python",
   "name": "python3"
  },
  "language_info": {
   "codemirror_mode": {
    "name": "ipython",
    "version": 3
   },
   "file_extension": ".py",
   "mimetype": "text/x-python",
   "name": "python",
   "nbconvert_exporter": "python",
   "pygments_lexer": "ipython3",
   "version": "3.7.3"
  }
 },
 "nbformat": 4,
 "nbformat_minor": 2
}
